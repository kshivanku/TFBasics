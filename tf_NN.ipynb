{
 "cells": [
  {
   "cell_type": "code",
   "execution_count": 98,
   "metadata": {},
   "outputs": [],
   "source": [
    "import numpy as np\n",
    "import tensorflow as tf\n",
    "import matplotlib.pyplot as plt\n",
    "import math\n",
    "import h5py\n",
    "from tensorflow.python.framework import ops\n",
    "%matplotlib inline"
   ]
  },
  {
   "cell_type": "code",
   "execution_count": 107,
   "metadata": {
    "collapsed": true
   },
   "outputs": [],
   "source": [
    "def model(X_train, Y_train, X_test, Y_test, learning_rate=0.01, num_epochs=1500, minibatch_size=32, print_cost=True):\n",
    "    \n",
    "    ops.reset_default_graph() \n",
    "    (n_x, m) = X_train.shape\n",
    "    n_y = Y_train.shape[0]\n",
    "    costs = []\n",
    "    \n",
    "    #STEP1: Create placeholders for X and Y\n",
    "    X, Y = create_placeholders(n_x, n_y)\n",
    "    \n",
    "    #STEP2: Initialize Parameters\n",
    "    parameters = initialize_parameters()\n",
    "    \n",
    "    #STEP3: Forward Propagation\n",
    "    ZL = forward_propagation(X, parameters)\n",
    "    \n",
    "    #STEP4: Calculate the cost\n",
    "    cost = compute_cost(ZL, Y)\n",
    "    \n",
    "    #STEP5: Back Propagation\n",
    "    optimizer = tf.train.GradientDescentOptimizer(learning_rate = learning_rate).minimize(cost)\n",
    "    \n",
    "    #STEP6: Run the session\n",
    "    init = tf.global_variables_initializer()\n",
    "    \n",
    "    with tf.Session() as sess:\n",
    "        sess.run(init)\n",
    "        for epoch in range(num_epochs):\n",
    "            epoch_cost = 0.\n",
    "            num_minibatches = int(m/minibatch_size)\n",
    "            minibatches = random_minibatchs(X_train, Y_train, minibatch_size)\n",
    "            for minibatch in minibatches:\n",
    "                (minibatch_X, minibatch_Y) = minibatch\n",
    "                _, minibatch_cost = sess.run([optimizer, cost], feed_dict = {X:minibatch_X, Y:minibatch_Y})\n",
    "                epoch_cost += minibatch_cost/num_minibatches\n",
    "            \n",
    "            if print_cost==True and epoch%100==0:\n",
    "                print(\"Cost at epoch \" + str(epoch) + \" is \" + str(epoch_cost))\n",
    "            if epoch%5 ==0:\n",
    "                costs.append(epoch_cost)\n",
    "        \n",
    "        plt.plot(np.squeeze(costs))\n",
    "        plt.ylabel('cost')\n",
    "        plt.xlabel('iterations (per tens)')\n",
    "        plt.title(\"Learning rate =\" + str(learning_rate))\n",
    "        plt.show()\n",
    "        \n",
    "        #STEP7: Store the value of parameters in a variable\n",
    "        parameters = sess.run(parameters)\n",
    "        \n",
    "        #STEP8: Calculate the correct predictions\n",
    "        correct_prediction = tf.equal(tf.argmax(ZL), tf.argmax(Y))\n",
    "\n",
    "        # Calculate accuracy on the test set\n",
    "        accuracy = tf.reduce_mean(tf.cast(correct_prediction, \"float\"))\n",
    "\n",
    "        print (\"Train Accuracy:\", accuracy.eval({X: X_train, Y: Y_train}))\n",
    "        print (\"Test Accuracy:\", accuracy.eval({X: X_test, Y: Y_test}))\n",
    "        \n",
    "        return parameters"
   ]
  },
  {
   "cell_type": "markdown",
   "metadata": {},
   "source": [
    "# Readying the Data"
   ]
  },
  {
   "cell_type": "code",
   "execution_count": 108,
   "metadata": {
    "collapsed": true
   },
   "outputs": [],
   "source": [
    "#Input Data\n",
    "X_train_orig, Y_train_orig, X_test_orig, Y_test_orig, classes = load_dataset()"
   ]
  },
  {
   "cell_type": "code",
   "execution_count": 111,
   "metadata": {},
   "outputs": [],
   "source": [
    "X_train_flatten = X_train_orig.reshape(X_train_orig.shape[0], -1).T\n",
    "X_test_flatten = X_test_orig.reshape(X_test_orig.shape[0], -1).T\n",
    "\n",
    "X_train = X_train_flatten/255\n",
    "X_test = X_test_flatten/255\n",
    "\n",
    "Y_train = convert_to_one_hot(Y_train_orig, 6)\n",
    "Y_test = convert_to_one_hot(Y_test_orig, 6)"
   ]
  },
  {
   "cell_type": "markdown",
   "metadata": {},
   "source": [
    "# Run the model"
   ]
  },
  {
   "cell_type": "code",
   "execution_count": 110,
   "metadata": {},
   "outputs": [
    {
     "name": "stdout",
     "output_type": "stream",
     "text": [
      "Cost at epoch 0 is 2.12666006161\n",
      "Cost at epoch 100 is 1.84635958888\n",
      "Cost at epoch 200 is 1.84636949409\n",
      "Cost at epoch 300 is 1.84638529474\n",
      "Cost at epoch 400 is 1.846330556\n",
      "Cost at epoch 500 is 1.84632841746\n",
      "Cost at epoch 600 is 1.84640319058\n",
      "Cost at epoch 700 is 1.84636721105\n",
      "Cost at epoch 800 is 1.84632278572\n",
      "Cost at epoch 900 is 1.8463880221\n",
      "Cost at epoch 1000 is 1.84641027812\n",
      "Cost at epoch 1100 is 1.84632664016\n",
      "Cost at epoch 1200 is 1.84635640636\n",
      "Cost at epoch 1300 is 1.8463482351\n",
      "Cost at epoch 1400 is 1.84640120737\n"
     ]
    },
    {
     "data": {
      "image/png": "[encoded data removed]",
      "text/plain": [
       "<matplotlib.figure.Figure at 0x18160fee10>"
      ]
     },
     "metadata": {},
     "output_type": "display_data"
    },
    {
     "name": "stdout",
     "output_type": "stream",
     "text": [
      "Train Accuracy: 0.166667\n",
      "Test Accuracy: 0.166667\n"
     ]
    }
   ],
   "source": [
    "# nn_layers = np.array([12288, 25, 12, 6])\n",
    "tf.reset_default_graph()\n",
    "parameters = model(X_train, Y_train, X_test, Y_test)"
   ]
  },
  {
   "cell_type": "markdown",
   "metadata": {},
   "source": [
    "# Supporting Functions"
   ]
  },
  {
   "cell_type": "code",
   "execution_count": 103,
   "metadata": {
    "collapsed": true
   },
   "outputs": [],
   "source": [
    "def create_placeholders(n_x, n_y):\n",
    "    X = tf.placeholder(shape=[n_x,None],dtype='float')\n",
    "    Y = tf.placeholder(shape=[n_y,None],dtype='float')\n",
    "#     X = tf.placeholder(tf.float32)\n",
    "#     Y = tf.placeholder(tf.float32)\n",
    "    return X, Y"
   ]
  },
  {
   "cell_type": "code",
   "execution_count": 75,
   "metadata": {
    "collapsed": true
   },
   "outputs": [],
   "source": [
    "# def initialize_parameters(nn_layers):\n",
    "#     parameters = {}\n",
    "#     L = len(nn_layers)\n",
    "#     for l in range(L):\n",
    "#         parameters[\"W\" + str(l+1)] = tf.get_variable(parameters[\"W\" + str(l+1)],[nn_layers[l], nn_layers[l-1]], initializer=tf.contrib.layers.xavier_initializer())\n",
    "#         parameters[\"b\" + str(l+1)] = tf.get_variable(parameters[\"b\" + str(l+1)], [nn_layers[l], nn_layers[l-1]], initializer=tf.contrib.layers.xavier_initializer())\n",
    "#     return parameters"
   ]
  },
  {
   "cell_type": "code",
   "execution_count": 76,
   "metadata": {
    "collapsed": true
   },
   "outputs": [],
   "source": [
    "def initialize_parameters():\n",
    "    \n",
    "    W1 = tf.get_variable('W1',[25,12288],initializer=tf.contrib.layers.xavier_initializer())\n",
    "    b1 = tf.get_variable('b1',[25,1],initializer=tf.zeros_initializer())\n",
    "    W2 = tf.get_variable('W2',[12,25],initializer=tf.contrib.layers.xavier_initializer())\n",
    "    b2 = tf.get_variable('b2',[12,1],initializer=tf.zeros_initializer())\n",
    "    W3 = tf.get_variable('W3',[6,12],initializer=tf.contrib.layers.xavier_initializer())\n",
    "    b3 = tf.get_variable('b3',[6,1],initializer=tf.zeros_initializer())\n",
    "\n",
    "    parameters = {\"W1\": W1,\n",
    "                  \"b1\": b1,\n",
    "                  \"W2\": W2,\n",
    "                  \"b2\": b2,\n",
    "                  \"W3\": W3,\n",
    "                  \"b3\": b3}\n",
    "    \n",
    "    return parameters"
   ]
  },
  {
   "cell_type": "code",
   "execution_count": 77,
   "metadata": {
    "collapsed": true
   },
   "outputs": [],
   "source": [
    "# def forward_propagation(X, parameters):\n",
    "#     L = len(parameters)//2\n",
    "#     A = X\n",
    "#     for l in range(L):\n",
    "#         A_prev = A\n",
    "#         Z = tf.add(tf.matmul(parameters[\"W\" + str(l+1)], A_prev), parameters[\"b\" + str(l+1)])\n",
    "#         A = tf.nn.relu(Z)\n",
    "#     return Z"
   ]
  },
  {
   "cell_type": "code",
   "execution_count": 97,
   "metadata": {
    "collapsed": true
   },
   "outputs": [],
   "source": [
    "def forward_propagation(X, parameters):\n",
    "    W1 = parameters['W1']\n",
    "    b1 = parameters['b1']\n",
    "    W2 = parameters['W2']\n",
    "    b2 = parameters['b2']\n",
    "    W3 = parameters['W3']\n",
    "    b3 = parameters['b3']\n",
    "    \n",
    "    Z1 = tf.add(tf.matmul(W1,X),b1)                                 \n",
    "    A1 = tf.nn.relu(Z1)                                            \n",
    "    Z2 = tf.add(tf.matmul(W2,A1),b2)                                             \n",
    "    A2 = tf.nn.relu(Z2)                                            \n",
    "    Z3 = tf.add(tf.matmul(W3,Z2),b3)                                           \n",
    "    \n",
    "    return Z3"
   ]
  },
  {
   "cell_type": "code",
   "execution_count": 78,
   "metadata": {
    "collapsed": true
   },
   "outputs": [],
   "source": [
    "def compute_cost(Z, Y):\n",
    "    logits = tf.transpose(Z)\n",
    "    labels = tf.transpose(Y)\n",
    "    cost = tf.reduce_mean(tf.nn.softmax_cross_entropy_with_logits(logits = logits, labels = labels))\n",
    "    return cost"
   ]
  },
  {
   "cell_type": "code",
   "execution_count": 79,
   "metadata": {
    "collapsed": true
   },
   "outputs": [],
   "source": [
    "def random_minibatchs(X, Y, minibatch_size=64):\n",
    "    m = X.shape[1]\n",
    "    num_complete_batches = math.floor(m/minibatch_size)\n",
    "    minibatches = []\n",
    "    \n",
    "    permutation = list(np.random.permutation(m))\n",
    "    shuffled_X = X[:, permutation]\n",
    "    shuffled_Y = Y[:, permutation].reshape((Y.shape[0], m))\n",
    "    \n",
    "    for k in range(num_complete_batches):\n",
    "        mini_batch_X = shuffled_X[:, k*minibatch_size:(k+1)*minibatch_size]\n",
    "        mini_batch_Y = shuffled_Y[:, k*minibatch_size:(k+1)*minibatch_size]\n",
    "        mini_batch = (mini_batch_X, mini_batch_Y)\n",
    "        minibatches.append(mini_batch)\n",
    "    \n",
    "    if m%minibatch_size!=0:\n",
    "        mini_batch_X = shuffled_X[:, num_complete_batches * minibatch_size:]\n",
    "        mini_batch_Y = shuffled_Y[:, num_complete_batches * minibatch_size:]\n",
    "        minibatch = (mini_batch_X, mini_batch_Y)\n",
    "        minibatches.append(minibatch)\n",
    "    \n",
    "    return minibatches"
   ]
  },
  {
   "cell_type": "code",
   "execution_count": 80,
   "metadata": {
    "collapsed": true
   },
   "outputs": [],
   "source": [
    "def load_dataset():\n",
    "    train_dataset = h5py.File('datasets/train_signs.h5', \"r\")\n",
    "    train_set_x_orig = np.array(train_dataset[\"train_set_x\"][:]) # your train set features\n",
    "    train_set_y_orig = np.array(train_dataset[\"train_set_y\"][:]) # your train set labels\n",
    "\n",
    "    test_dataset = h5py.File('datasets/test_signs.h5', \"r\")\n",
    "    test_set_x_orig = np.array(test_dataset[\"test_set_x\"][:]) # your test set features\n",
    "    test_set_y_orig = np.array(test_dataset[\"test_set_y\"][:]) # your test set labels\n",
    "\n",
    "    classes = np.array(test_dataset[\"list_classes\"][:]) # the list of classes\n",
    "    \n",
    "    train_set_y_orig = train_set_y_orig.reshape((1, train_set_y_orig.shape[0]))\n",
    "    test_set_y_orig = test_set_y_orig.reshape((1, test_set_y_orig.shape[0]))\n",
    "    \n",
    "    return train_set_x_orig, train_set_y_orig, test_set_x_orig, test_set_y_orig, classes"
   ]
  },
  {
   "cell_type": "code",
   "execution_count": 81,
   "metadata": {
    "collapsed": true
   },
   "outputs": [],
   "source": [
    "def convert_to_one_hot(Y, C):\n",
    "    Y = np.eye(C)[Y.reshape(-1)].T\n",
    "    return Y"
   ]
  },
  {
   "cell_type": "code",
   "execution_count": null,
   "metadata": {
    "collapsed": true
   },
   "outputs": [],
   "source": []
  }
 ],
 "metadata": {
  "kernelspec": {
   "display_name": "Python 3",
   "language": "python",
   "name": "python3"
  },
  "language_info": {
   "codemirror_mode": {
    "name": "ipython",
    "version": 3
   },
   "file_extension": ".py",
   "mimetype": "text/x-python",
   "name": "python",
   "nbconvert_exporter": "python",
   "pygments_lexer": "ipython3",
   "version": "3.6.3"
  }
 },
 "nbformat": 4,
 "nbformat_minor": 2
}
