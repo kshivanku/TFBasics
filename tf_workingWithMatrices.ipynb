{
 "cells": [
  {
   "cell_type": "code",
   "execution_count": 3,
   "metadata": {},
   "outputs": [],
   "source": [
    "import numpy as np\n",
    "import tensorflow as tf"
   ]
  },
  {
   "cell_type": "code",
   "execution_count": 7,
   "metadata": {},
   "outputs": [
    {
     "name": "stdout",
     "output_type": "stream",
     "text": [
      "Result: [[-0.13544452]\n",
      " [-2.44570986]\n",
      " [-1.16815418]\n",
      " [ 0.77881796]]\n"
     ]
    }
   ],
   "source": [
    "def linear_function():\n",
    "    X = tf.placeholder(tf.float64)\n",
    "    W = tf.constant(np.random.randn(4, 3))\n",
    "    b = tf.constant(np.random.randn(4, 1))\n",
    "    Y = tf.add(tf.matmul(W, X), b)\n",
    "    sess = tf.Session()\n",
    "    result = sess.run(Y, feed_dict={X:np.random.randn(3, 1)})\n",
    "    sess.close()\n",
    "    return result\n",
    "\n",
    "print(\"Result: \" + str(linear_function()))"
   ]
  },
  {
   "cell_type": "code",
   "execution_count": 14,
   "metadata": {},
   "outputs": [
    {
     "name": "stdout",
     "output_type": "stream",
     "text": [
      "Sigmoid: 0.999994\n"
     ]
    }
   ],
   "source": [
    "def sigmoid(z):\n",
    "    sigmoid = tf.sigmoid(z)\n",
    "    with tf.Session() as sess:\n",
    "        result = sess.run(sigmoid)\n",
    "    return result\n",
    "\n",
    "print(\"Sigmoid: \" + str(sigmoid(12.)))"
   ]
  },
  {
   "cell_type": "code",
   "execution_count": 16,
   "metadata": {},
   "outputs": [
    {
     "name": "stdout",
     "output_type": "stream",
     "text": [
      "Sigmoid with placeholder: 0.999994\n"
     ]
    }
   ],
   "source": [
    "#Better to use placeholder for sigmoid\n",
    "def sigmoid_pl(z):\n",
    "    x = tf.placeholder(tf.float32)\n",
    "    sigmoid = tf.sigmoid(x)\n",
    "    with tf.Session() as sess:\n",
    "        result = sess.run(sigmoid, feed_dict={x:z})\n",
    "    return result\n",
    "\n",
    "print(\"Sigmoid with placeholder: \" + str(sigmoid_pl(12)))"
   ]
  },
  {
   "cell_type": "code",
   "execution_count": 17,
   "metadata": {},
   "outputs": [
    {
     "name": "stdout",
     "output_type": "stream",
     "text": [
      "Cost: [ 1.00538719  1.03664088  0.4138543   0.39956614]\n"
     ]
    }
   ],
   "source": [
    "#Cost function is also pre-defined which includes sigmoid activation\n",
    "def cost(logits, labels):\n",
    "    z = tf.placeholder(tf.float32)\n",
    "    y = tf.placeholder(tf.float32)\n",
    "    cost = tf.nn.sigmoid_cross_entropy_with_logits(logits=z, labels=y)\n",
    "    session = tf.Session()\n",
    "    cost = session.run(cost, feed_dict={z:logits, y:labels})\n",
    "    session.close()\n",
    "    return cost\n",
    "\n",
    "logits = sigmoid(np.array([0.2, 0.4, 0.7, 0.9]))\n",
    "print(\"Cost: \" + str(cost(logits, np.array([0, 0, 1, 1]))))"
   ]
  },
  {
   "cell_type": "code",
   "execution_count": 22,
   "metadata": {},
   "outputs": [
    {
     "name": "stdout",
     "output_type": "stream",
     "text": [
      "One_hot_matrix: [[ 0.  0.  0.  1.  0.  0.]\n",
      " [ 1.  0.  0.  0.  0.  1.]\n",
      " [ 0.  1.  0.  0.  1.  0.]\n",
      " [ 0.  0.  1.  0.  0.  0.]]\n"
     ]
    }
   ],
   "source": [
    "def one_hot_matrix(labels, C):\n",
    "    C = tf.constant(C)\n",
    "    one_hot_matrix = tf.one_hot(labels, C, axis=0)\n",
    "    with tf.Session() as sess:\n",
    "        result = sess.run(one_hot_matrix)\n",
    "    return result\n",
    "\n",
    "labels = np.array([1,2,3,0,2,1])\n",
    "one_hot = one_hot_matrix(labels, 4)\n",
    "print(\"One_hot_matrix: \" + str(one_hot))"
   ]
  },
  {
   "cell_type": "code",
   "execution_count": 26,
   "metadata": {},
   "outputs": [
    {
     "name": "stdout",
     "output_type": "stream",
     "text": [
      "ones_array: [ 1.  1.  1.  1.  1.]\n"
     ]
    }
   ],
   "source": [
    "#Creating a vector of ones\n",
    "def ones(shape):\n",
    "    ones_array = tf.ones(shape)\n",
    "    with tf.Session() as sess:\n",
    "        result = sess.run(ones_array)\n",
    "    return result\n",
    "\n",
    "print(\"ones_array: \" + str(ones(5)))"
   ]
  },
  {
   "cell_type": "code",
   "execution_count": null,
   "metadata": {
    "collapsed": true
   },
   "outputs": [],
   "source": []
  }
 ],
 "metadata": {
  "kernelspec": {
   "display_name": "Python 3",
   "language": "python",
   "name": "python3"
  },
  "language_info": {
   "codemirror_mode": {
    "name": "ipython",
    "version": 3
   },
   "file_extension": ".py",
   "mimetype": "text/x-python",
   "name": "python",
   "nbconvert_exporter": "python",
   "pygments_lexer": "ipython3",
   "version": "3.6.3"
  }
 },
 "nbformat": 4,
 "nbformat_minor": 2
}
